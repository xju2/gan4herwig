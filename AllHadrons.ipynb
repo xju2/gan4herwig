{
 "cells": [
  {
   "cell_type": "code",
   "execution_count": 1,
   "id": "cc2c6413-93d1-4902-82af-2c9babb8c5ce",
   "metadata": {},
   "outputs": [
    {
     "name": "stderr",
     "output_type": "stream",
     "text": [
      "/global/home/users/xju/miniconda3/envs/pyG-1.12.1/lib/python3.9/site-packages/tqdm/auto.py:22: TqdmWarning: IProgress not found. Please update jupyter and ipywidgets. See https://ipywidgets.readthedocs.io/en/stable/user_install.html\n",
      "  from .autonotebook import tqdm as notebook_tqdm\n"
     ]
    }
   ],
   "source": [
    "import os\n",
    "import pickle\n",
    "import tqdm\n",
    "\n",
    "import numpy as np\n",
    "import matplotlib.pyplot as plt\n",
    "%matplotlib inline\n",
    "\n",
    "from torch.utils.tensorboard import SummaryWriter\n",
    "%load_ext tensorboard\n",
    "\n",
    "import torch\n",
    "import torch.nn as nn\n",
    "import torch.nn.functional as F\n",
    "import torch.optim as optim\n",
    "torch.manual_seed(1);\n",
    "\n",
    "device = torch.device(\"cuda:1\" if torch.cuda.is_available() else \"cpu\")\n",
    "\n",
    "\n",
    "from utils import create_dataloader\n",
    "# from cgan import Generator, Discriminator"
   ]
  },
  {
   "cell_type": "code",
   "execution_count": 2,
   "id": "4d7e7cbd-ee30-4a97-b4da-eeeadcbebc10",
   "metadata": {},
   "outputs": [],
   "source": [
    "data_path = \"/global/home/users/xju/projects/herwig/data\"\n",
    "filename = os.path.join(data_path, \"allHadrons_mode4_with_quark_with_pert.npz\")\n",
    "org_filename = os.path.join(data_path, \"cluster_ML_allHadrons.txt\")"
   ]
  },
  {
   "cell_type": "markdown",
   "id": "f1f484ca-23d6-4791-95fa-df101a707209",
   "metadata": {},
   "source": [
    "# Hadron types"
   ]
  },
  {
   "cell_type": "code",
   "execution_count": 3,
   "id": "a7cad65f-aa9b-4936-ab9c-098edefec2ae",
   "metadata": {},
   "outputs": [],
   "source": [
    "from utils import read_dataframe, split_to_float"
   ]
  },
  {
   "cell_type": "code",
   "execution_count": 4,
   "id": "836be6e8-18fc-49a8-9338-dd7656a0529d",
   "metadata": {},
   "outputs": [],
   "source": [
    "df = read_dataframe(org_filename, \";\", 'python')\n",
    "q1,q2,c,h1,h2 = [split_to_float(df[idx]) for idx in range(5)]"
   ]
  },
  {
   "cell_type": "code",
   "execution_count": 5,
   "id": "f5b269dd-04b5-45dd-b879-efba46c0d96b",
   "metadata": {},
   "outputs": [],
   "source": [
    "h1_type, h2_type = h1[[0]], h2[[0]]"
   ]
  },
  {
   "cell_type": "code",
   "execution_count": 6,
   "id": "2f5f51af-191e-4a5b-b899-de7119b44b24",
   "metadata": {},
   "outputs": [],
   "source": [
    "fontsize = 16\n",
    "def plot_counts(array: np.ndarray):\n",
    "    types, counts = np.unique(array, return_counts=True)\n",
    "    num_types = len(types)\n",
    "    tot_cnts = np.sum(counts)\n",
    "    xvals = np.arange(num_types)\n",
    "    \n",
    "    fig, ax = plt.subplots(figsize=(6,6))\n",
    "    ax.scatter(xvals, counts/tot_cnts, s=2.)\n",
    "\n",
    "    ax.set_xticklabels([])\n",
    "    ax.set_xlabel(\"hadron type\", fontsize=fontsize)\n",
    "    print(f\"total {num_types} hadrons in the final state\")\n",
    "    return types.astype(np.int64), num_types"
   ]
  },
  {
   "cell_type": "code",
   "execution_count": 7,
   "id": "ee027507-0357-417b-b076-078cddd7cccf",
   "metadata": {},
   "outputs": [
    {
     "name": "stdout",
     "output_type": "stream",
     "text": [
      "total 270 hadrons in the final state\n"
     ]
    },
    {
     "data": {
      "image/png": "[encoded data removed]",
      "text/plain": [
       "<Figure size 600x600 with 1 Axes>"
      ]
     },
     "metadata": {},
     "output_type": "display_data"
    }
   ],
   "source": [
    "hadron_types = plot_counts(np.concatenate([h1_type, h2_type], axis=0))"
   ]
  },
  {
   "cell_type": "markdown",
   "id": "e0d7e448-c124-4052-a55c-98865e8b8589",
   "metadata": {},
   "source": [
    "## Hadron type embedding"
   ]
  },
  {
   "cell_type": "code",
   "execution_count": 8,
   "id": "d1011109-8705-4ad4-bdb1-4d336ed37abf",
   "metadata": {},
   "outputs": [],
   "source": [
    "embed_dim = 10\n",
    "hadron_pids, num_hadron_types = hadron_types\n",
    "pids_to_ix = {pids: i for i, pids in enumerate(hadron_pids)}\n",
    "\n",
    "pickle.dump(pids_to_ix, open(\"pids_to_ix.pkl\", \"wb\"))"
   ]
  },
  {
   "cell_type": "code",
   "execution_count": 9,
   "id": "bbbe0303-376b-4c24-aff4-93511b6ebc7f",
   "metadata": {},
   "outputs": [],
   "source": [
    "type_embedding = nn.Embedding(num_hadron_types, embed_dim)"
   ]
  },
  {
   "cell_type": "code",
   "execution_count": 10,
   "id": "42f9a87c-c24f-4ac5-9b39-ca201d441171",
   "metadata": {},
   "outputs": [
    {
     "name": "stdout",
     "output_type": "stream",
     "text": [
      "tensor([[ 0.3388, -0.7186, -0.5009,  0.7134,  2.3605, -0.1826,  0.5411, -0.7188,\n",
      "         -0.1218,  0.3274]], grad_fn=<EmbeddingBackward0>)\n"
     ]
    }
   ],
   "source": [
    "lookup_tensor = torch.tensor([pids_to_ix[111]], dtype=torch.long)\n",
    "pion_embed = type_embedding(lookup_tensor)\n",
    "print(pion_embed)"
   ]
  },
  {
   "cell_type": "markdown",
   "id": "313e8a63",
   "metadata": {},
   "source": [
    "# GAN with hadron type embedding"
   ]
  },
  {
   "cell_type": "markdown",
   "id": "40ab1b3d",
   "metadata": {},
   "source": [
    "Read the input data"
   ]
  },
  {
   "cell_type": "code",
   "execution_count": 11,
   "id": "3936ef78-3d0a-44d8-b1b4-d09a0084ce39",
   "metadata": {},
   "outputs": [
    {
     "name": "stdout",
     "output_type": "stream",
     "text": [
      "(7809, 4) (7809, 8)\n",
      "WARNING: num_test_evts < 10_000\n"
     ]
    }
   ],
   "source": [
    "batch_size = 10\n",
    "num_workers = 2\n",
    "\n",
    "train_loader, test_loader, xlabels = create_dataloader(filename, batch_size, num_workers)"
   ]
  },
  {
   "cell_type": "code",
   "execution_count": 12,
   "id": "c4970915-bfc7-4af9-8745-ebb05249bd78",
   "metadata": {},
   "outputs": [
    {
     "name": "stdout",
     "output_type": "stream",
     "text": [
      "conditional dimension:  8\n",
      "output dimension:  2\n"
     ]
    }
   ],
   "source": [
    "\n",
    "num_layers = 2\n",
    "hidden_dim = 64\n",
    "noise_dim = 16\n",
    "num_max_hadrons = 2\n",
    "\n",
    "batch = next(iter(train_loader))\n",
    "cond_dim = batch[0].shape[1]\n",
    "output_dim = batch[1].shape[1] - 2\n",
    "print(\"conditional dimension: \", cond_dim)\n",
    "print(\"output dimension: \", output_dim)"
   ]
  },
  {
   "cell_type": "code",
   "execution_count": 13,
   "id": "50214b10-3b8e-4195-a53c-088946809bbe",
   "metadata": {
    "jupyter": {
     "source_hidden": true
    },
    "tags": []
   },
   "outputs": [],
   "source": [
    "\n",
    "class Generator(nn.Module):\n",
    "    \"\"\"Generator for the GAN\"\"\"\n",
    "    def __init__(self, noise_dim: int, cond_dim: int, output_dim: int,\n",
    "                 num_hadron_types: int, num_layers: int, hidden_dim: int,\n",
    "                 num_max_hadrons: int = 2):       \n",
    "        super(Generator, self).__init__()\n",
    "        layer_list = []\n",
    "        for i in range(num_layers):\n",
    "            if i == 0:\n",
    "                layer_list.append(nn.Linear(noise_dim + cond_dim, hidden_dim))\n",
    "            else:\n",
    "                layer_list.append(nn.Linear(hidden_dim, hidden_dim))\n",
    "            layer_list.append(nn.LeakyReLU(0.2))\n",
    "        \n",
    "        layer_list.append(nn.Linear(hidden_dim, output_dim+num_hadron_types*num_max_hadrons))\n",
    "        self.model = nn.Sequential(*layer_list)\n",
    "        \n",
    "\n",
    "    def forward(self, x):\n",
    "        return self.model(x)\n",
    "    \n",
    "    \n",
    "class Discriminator(torch.nn.Module):\n",
    "    \"\"\"Discriminator for the GAN\"\"\"\n",
    "    def __init__(self, input_dim: int, cond_dim: int,\n",
    "                 num_hadron_types: int, \n",
    "                 num_layers: int, hidden_dim: int,\n",
    "                 num_max_hadrons: int = 2):\n",
    "        super(Discriminator, self).__init__()\n",
    "        layer_list = []\n",
    "        for i in range(num_layers):\n",
    "            if i == 0:\n",
    "                layer_list.append(torch.nn.Linear(cond_dim + input_dim +  num_hadron_types * num_max_hadrons, hidden_dim))\n",
    "            else:\n",
    "                layer_list.append(torch.nn.Linear(hidden_dim, hidden_dim))\n",
    "            layer_list.append(torch.nn.LeakyReLU(0.2))\n",
    "        \n",
    "        layer_list.append(torch.nn.Linear(hidden_dim, 1))\n",
    "        layer_list.append(nn.Sigmoid())\n",
    "        self.model = torch.nn.Sequential(*layer_list)\n",
    "        \n",
    "    \n",
    "    def forward(self, x):\n",
    "        return self.model(x)"
   ]
  },
  {
   "cell_type": "code",
   "execution_count": 14,
   "id": "52bb776c-37a4-465b-a6f6-fccc8b8d5b78",
   "metadata": {},
   "outputs": [],
   "source": [
    "generator = Generator(noise_dim, cond_dim, output_dim, num_hadron_types, num_layers, hidden_dim, num_max_hadrons).to(device)\n",
    "discriminator = Discriminator(output_dim, cond_dim, num_hadron_types, num_layers, hidden_dim, num_max_hadrons).to(device)"
   ]
  },
  {
   "cell_type": "code",
   "execution_count": 15,
   "id": "e037e5c6-01cb-404b-bac6-8d338c619407",
   "metadata": {},
   "outputs": [],
   "source": [
    "noise = torch.randn(batch_size, noise_dim).to(device)\n",
    "x, y = batch\n",
    "x, y = x.to(device), y.to(device)\n",
    "x_gen = torch.concat([x, noise], dim=1).to(device)\n",
    "\n",
    "fake = generator(x_gen)\n",
    "\n",
    "x_disc = torch.cat([x, fake], dim=1).to(device)\n",
    "score = discriminator(x_disc)"
   ]
  },
  {
   "cell_type": "code",
   "execution_count": null,
   "id": "ced6db7a",
   "metadata": {},
   "outputs": [],
   "source": []
  },
  {
   "cell_type": "code",
   "execution_count": 21,
   "id": "f70538d9-7362-4286-a64b-e900a1c348d2",
   "metadata": {},
   "outputs": [],
   "source": [
    "opt_gen = optim.Adam(generator.parameters(), lr=0.002)\n",
    "opt_disc = optim.Adam(discriminator.parameters(), lr=0.005)\n",
    "\n",
    "criterion = nn.BCELoss()"
   ]
  },
  {
   "cell_type": "code",
   "execution_count": 19,
   "id": "ec66a768-3c67-4960-9467-7fd002eb8846",
   "metadata": {},
   "outputs": [],
   "source": [
    "def train():\n",
    "    real_label = 1\n",
    "    fake_label = 0\n",
    "    \n",
    "    tot_loss_gen = 0\n",
    "    tot_loss_disc = 0\n",
    "    num_batches = 0\n",
    "    for batch in train_loader:\n",
    "        num_batches += 1\n",
    "        x, y = batch\n",
    "        x, y = x.to(device), y.to(device)\n",
    "        ##  Train discriminator with all-real batch\n",
    "        discriminator.zero_grad()\n",
    "\n",
    "        target_hadron_types = y[:, 2:].reshape(-1).long()\n",
    "        target_hadron_types_idx = torch.from_numpy(np.array(\n",
    "            [pids_to_ix[int(pid)] for pid in target_hadron_types]))\n",
    "        \n",
    "        num_evts = y.shape[0]\n",
    "\n",
    "        true_hadron_types = torch.abs(F.one_hot(target_hadron_types_idx, num_classes=num_hadron_types) \\\n",
    "            - torch.rand(num_evts*num_max_hadrons, num_hadron_types)*0.001).reshape(num_evts, -1).to(device)\n",
    "        x_truth = torch.cat([x, y[:, :2], true_hadron_types], dim=1)\n",
    "        score_truth = discriminator(x_truth).squeeze()\n",
    "        label = torch.full((num_evts,), real_label, dtype=torch.float, device=device)\n",
    "        loss_real = criterion(score_truth, label)\n",
    "\n",
    "        loss_real.backward()\n",
    "\n",
    "        ## Train discriminator with all-fake batch\n",
    "        noise = torch.randn(num_evts, noise_dim).to(device)\n",
    "        x_fake = torch.concat([x, noise], dim=1)\n",
    "        fake = generator(x_fake)\n",
    "\n",
    "        x_generated = torch.cat([x, fake], dim=1)\n",
    "        score_fakes = discriminator(x_generated.detach()).squeeze()\n",
    "        label.fill_(fake_label)\n",
    "        loss_fake = criterion(score_fakes, label)\n",
    "        loss_fake.backward()\n",
    "        loss_disc = loss_real + loss_fake\n",
    "        ## Update discriminator\n",
    "        opt_disc.step()\n",
    "\n",
    "\n",
    "        ## Train generator\n",
    "        generator.zero_grad()\n",
    "        label.fill_(real_label)\n",
    "        score_fakes = discriminator(x_generated).squeeze()\n",
    "        loss_generator = criterion(score_fakes, label)\n",
    "        loss_generator.backward()\n",
    "        opt_gen.step()\n",
    "        \n",
    "        tot_loss_gen += loss_generator.item()\n",
    "        tot_loss_disc += loss_disc.item()\n",
    "        \n",
    "    return tot_loss_gen/num_batches, tot_loss_disc/num_batches"
   ]
  },
  {
   "cell_type": "code",
   "execution_count": 22,
   "id": "3e60a286-e178-4196-9ac4-5c48937e0c5f",
   "metadata": {
    "collapsed": true,
    "jupyter": {
     "outputs_hidden": true
    },
    "tags": []
   },
   "outputs": [
    {
     "name": "stderr",
     "output_type": "stream",
     "text": [
      " 14%|█▎        | 27/200 [01:27<09:19,  3.23s/it, lossD=100, lossG=0]     \n"
     ]
    },
    {
     "ename": "KeyboardInterrupt",
     "evalue": "",
     "output_type": "error",
     "traceback": [
      "\u001b[0;31m---------------------------------------------------------------------------\u001b[0m",
      "\u001b[0;31mKeyboardInterrupt\u001b[0m                         Traceback (most recent call last)",
      "Cell \u001b[0;32mIn [22], line 6\u001b[0m\n\u001b[1;32m      3\u001b[0m \u001b[38;5;28;01mwith\u001b[39;00m tqdm\u001b[38;5;241m.\u001b[39mtrange(num_epochs, disable\u001b[38;5;241m=\u001b[39m\u001b[38;5;28;01mFalse\u001b[39;00m) \u001b[38;5;28;01mas\u001b[39;00m t0:\n\u001b[1;32m      4\u001b[0m     \u001b[38;5;28;01mfor\u001b[39;00m _ \u001b[38;5;129;01min\u001b[39;00m t0:\n\u001b[1;32m      5\u001b[0m         \u001b[38;5;66;03m# training\u001b[39;00m\n\u001b[0;32m----> 6\u001b[0m         loss_gen, loss_disc \u001b[38;5;241m=\u001b[39m \u001b[43mtrain\u001b[49m\u001b[43m(\u001b[49m\u001b[43m)\u001b[49m\n\u001b[1;32m      7\u001b[0m         writer\u001b[38;5;241m.\u001b[39madd_scalar(\u001b[38;5;124m\"\u001b[39m\u001b[38;5;124mGenerator Loss\u001b[39m\u001b[38;5;124m\"\u001b[39m, loss_gen, _)\n\u001b[1;32m      8\u001b[0m         writer\u001b[38;5;241m.\u001b[39madd_scalar(\u001b[38;5;124m\"\u001b[39m\u001b[38;5;124mDiscriminator Loss\u001b[39m\u001b[38;5;124m\"\u001b[39m, loss_disc, _)\n",
      "Cell \u001b[0;32mIn [19], line 39\u001b[0m, in \u001b[0;36mtrain\u001b[0;34m()\u001b[0m\n\u001b[1;32m     37\u001b[0m label\u001b[38;5;241m.\u001b[39mfill_(fake_label)\n\u001b[1;32m     38\u001b[0m loss_fake \u001b[38;5;241m=\u001b[39m criterion(score_fakes, label)\n\u001b[0;32m---> 39\u001b[0m \u001b[43mloss_fake\u001b[49m\u001b[38;5;241;43m.\u001b[39;49m\u001b[43mbackward\u001b[49m\u001b[43m(\u001b[49m\u001b[43m)\u001b[49m\n\u001b[1;32m     40\u001b[0m loss_disc \u001b[38;5;241m=\u001b[39m loss_real \u001b[38;5;241m+\u001b[39m loss_fake\n\u001b[1;32m     41\u001b[0m \u001b[38;5;66;03m## Update discriminator\u001b[39;00m\n",
      "File \u001b[0;32m~/miniconda3/envs/pyG-1.12.1/lib/python3.9/site-packages/torch/_tensor.py:396\u001b[0m, in \u001b[0;36mTensor.backward\u001b[0;34m(self, gradient, retain_graph, create_graph, inputs)\u001b[0m\n\u001b[1;32m    387\u001b[0m \u001b[38;5;28;01mif\u001b[39;00m has_torch_function_unary(\u001b[38;5;28mself\u001b[39m):\n\u001b[1;32m    388\u001b[0m     \u001b[38;5;28;01mreturn\u001b[39;00m handle_torch_function(\n\u001b[1;32m    389\u001b[0m         Tensor\u001b[38;5;241m.\u001b[39mbackward,\n\u001b[1;32m    390\u001b[0m         (\u001b[38;5;28mself\u001b[39m,),\n\u001b[0;32m   (...)\u001b[0m\n\u001b[1;32m    394\u001b[0m         create_graph\u001b[38;5;241m=\u001b[39mcreate_graph,\n\u001b[1;32m    395\u001b[0m         inputs\u001b[38;5;241m=\u001b[39minputs)\n\u001b[0;32m--> 396\u001b[0m \u001b[43mtorch\u001b[49m\u001b[38;5;241;43m.\u001b[39;49m\u001b[43mautograd\u001b[49m\u001b[38;5;241;43m.\u001b[39;49m\u001b[43mbackward\u001b[49m\u001b[43m(\u001b[49m\u001b[38;5;28;43mself\u001b[39;49m\u001b[43m,\u001b[49m\u001b[43m \u001b[49m\u001b[43mgradient\u001b[49m\u001b[43m,\u001b[49m\u001b[43m \u001b[49m\u001b[43mretain_graph\u001b[49m\u001b[43m,\u001b[49m\u001b[43m \u001b[49m\u001b[43mcreate_graph\u001b[49m\u001b[43m,\u001b[49m\u001b[43m \u001b[49m\u001b[43minputs\u001b[49m\u001b[38;5;241;43m=\u001b[39;49m\u001b[43minputs\u001b[49m\u001b[43m)\u001b[49m\n",
      "File \u001b[0;32m~/miniconda3/envs/pyG-1.12.1/lib/python3.9/site-packages/torch/autograd/__init__.py:173\u001b[0m, in \u001b[0;36mbackward\u001b[0;34m(tensors, grad_tensors, retain_graph, create_graph, grad_variables, inputs)\u001b[0m\n\u001b[1;32m    168\u001b[0m     retain_graph \u001b[38;5;241m=\u001b[39m create_graph\n\u001b[1;32m    170\u001b[0m \u001b[38;5;66;03m# The reason we repeat same the comment below is that\u001b[39;00m\n\u001b[1;32m    171\u001b[0m \u001b[38;5;66;03m# some Python versions print out the first line of a multi-line function\u001b[39;00m\n\u001b[1;32m    172\u001b[0m \u001b[38;5;66;03m# calls in the traceback and some print out the last line\u001b[39;00m\n\u001b[0;32m--> 173\u001b[0m \u001b[43mVariable\u001b[49m\u001b[38;5;241;43m.\u001b[39;49m\u001b[43m_execution_engine\u001b[49m\u001b[38;5;241;43m.\u001b[39;49m\u001b[43mrun_backward\u001b[49m\u001b[43m(\u001b[49m\u001b[43m  \u001b[49m\u001b[38;5;66;43;03m# Calls into the C++ engine to run the backward pass\u001b[39;49;00m\n\u001b[1;32m    174\u001b[0m \u001b[43m    \u001b[49m\u001b[43mtensors\u001b[49m\u001b[43m,\u001b[49m\u001b[43m \u001b[49m\u001b[43mgrad_tensors_\u001b[49m\u001b[43m,\u001b[49m\u001b[43m \u001b[49m\u001b[43mretain_graph\u001b[49m\u001b[43m,\u001b[49m\u001b[43m \u001b[49m\u001b[43mcreate_graph\u001b[49m\u001b[43m,\u001b[49m\u001b[43m \u001b[49m\u001b[43minputs\u001b[49m\u001b[43m,\u001b[49m\n\u001b[1;32m    175\u001b[0m \u001b[43m    \u001b[49m\u001b[43mallow_unreachable\u001b[49m\u001b[38;5;241;43m=\u001b[39;49m\u001b[38;5;28;43;01mTrue\u001b[39;49;00m\u001b[43m,\u001b[49m\u001b[43m \u001b[49m\u001b[43maccumulate_grad\u001b[49m\u001b[38;5;241;43m=\u001b[39;49m\u001b[38;5;28;43;01mTrue\u001b[39;49;00m\u001b[43m)\u001b[49m\n",
      "\u001b[0;31mKeyboardInterrupt\u001b[0m: "
     ]
    }
   ],
   "source": [
    "num_epochs = 200\n",
    "\n",
    "writer = SummaryWriter()\n",
    "writer.add_graph(generator, x_gen)\n",
    "writer.add_graph(discriminator, x_disc)\n",
    "\n",
    "with tqdm.trange(num_epochs, disable=False) as t0:\n",
    "    for _ in t0:\n",
    "        # training\n",
    "        loss_gen, loss_disc = train()\n",
    "        writer.add_scalar(\"Generator Loss\", loss_gen, _)\n",
    "        writer.add_scalar(\"Discriminator Loss\", loss_disc, _)\n",
    "        \n",
    "        metric = dict(lossG=loss_gen, lossD=loss_disc)\n",
    "        \n",
    "        # validation <TODO>\n",
    "        t0.set_postfix(**metric)"
   ]
  },
  {
   "cell_type": "code",
   "execution_count": null,
   "id": "a5fb57d5",
   "metadata": {},
   "outputs": [],
   "source": []
  }
 ],
 "metadata": {
  "kernelspec": {
   "display_name": "Python 3",
   "language": "python",
   "name": "python3"
  },
  "language_info": {
   "codemirror_mode": {
    "name": "ipython",
    "version": 3
   },
   "file_extension": ".py",
   "mimetype": "text/x-python",
   "name": "python",
   "nbconvert_exporter": "python",
   "pygments_lexer": "ipython3",
   "version": "3.9.13"
  },
  "vscode": {
   "interpreter": {
    "hash": "22bc0038c9d8ff767a88afaae49674e591625273f43cd41c2a84bf36af7b0d28"
   }
  }
 },
 "nbformat": 4,
 "nbformat_minor": 5
}
