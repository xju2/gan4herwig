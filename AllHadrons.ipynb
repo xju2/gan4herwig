{
 "cells": [
  {
   "cell_type": "code",
   "execution_count": 1,
   "id": "cc2c6413-93d1-4902-82af-2c9babb8c5ce",
   "metadata": {},
   "outputs": [
    {
     "name": "stderr",
     "output_type": "stream",
     "text": [
      "/global/home/users/xju/miniconda3/envs/pyG-1.12.1/lib/python3.9/site-packages/tqdm/auto.py:22: TqdmWarning: IProgress not found. Please update jupyter and ipywidgets. See https://ipywidgets.readthedocs.io/en/stable/user_install.html\n",
      "  from .autonotebook import tqdm as notebook_tqdm\n"
     ]
    }
   ],
   "source": [
    "import os\n",
    "\n",
    "import torch\n",
    "from cgan import Generator, Discriminator\n",
    "from utils import create_dataloader"
   ]
  },
  {
   "cell_type": "code",
   "execution_count": 2,
   "id": "50214b10-3b8e-4195-a53c-088946809bbe",
   "metadata": {},
   "outputs": [],
   "source": [
    "\n",
    "data_path = \"/global/home/users/xju/projects/herwig/data\"\n",
    "filename = os.path.join(data_path, \"allHadrons_mode4_with_quark_with_pert.npz\")"
   ]
  },
  {
   "cell_type": "code",
   "execution_count": 4,
   "id": "52bb776c-37a4-465b-a6f6-fccc8b8d5b78",
   "metadata": {},
   "outputs": [
    {
     "name": "stdout",
     "output_type": "stream",
     "text": [
      "(7809, 2) (7809, 8)\n",
      "WARNING: num_test_evts < 10_000\n"
     ]
    }
   ],
   "source": [
    "batch_size = 10\n",
    "num_workers = 2\n",
    "\n",
    "train_loader, test_loader, xlabels = create_dataloader(filename, batch_size, num_workers)"
   ]
  },
  {
   "cell_type": "code",
   "execution_count": 5,
   "id": "5596e91a-228a-4b1b-8032-15c08dd3da6c",
   "metadata": {},
   "outputs": [],
   "source": []
  },
  {
   "cell_type": "code",
   "execution_count": 7,
   "id": "9b59e7df-6ba9-40db-bdc1-0e5978c8e7bf",
   "metadata": {},
   "outputs": [],
   "source": [
    "batch = next(iter(train_loader))"
   ]
  },
  {
   "cell_type": "code",
   "execution_count": 14,
   "id": "e037e5c6-01cb-404b-bac6-8d338c619407",
   "metadata": {},
   "outputs": [],
   "source": [
    "num_layers = 2\n",
    "hidden_dim = 64\n",
    "noise_dim = 16\n",
    "\n",
    "batch = next(iter(train_loader))\n",
    "\n",
    "cond_dim = batch[0].shape[1]\n",
    "output_dim = batch[1].shape[1]"
   ]
  },
  {
   "cell_type": "code",
   "execution_count": 15,
   "id": "8c6c318e-1d82-4b5b-9c43-25249beebe5b",
   "metadata": {},
   "outputs": [
    {
     "ename": "TypeError",
     "evalue": "__init__() got an unexpected keyword argument 'activation'",
     "output_type": "error",
     "traceback": [
      "\u001b[0;31m---------------------------------------------------------------------------\u001b[0m",
      "\u001b[0;31mTypeError\u001b[0m                                 Traceback (most recent call last)",
      "Cell \u001b[0;32mIn [15], line 2\u001b[0m\n\u001b[1;32m      1\u001b[0m gene \u001b[38;5;241m=\u001b[39m Generator(noise_dim, cond_dim, output_dim, num_layers, hidden_dim)\n\u001b[0;32m----> 2\u001b[0m disc \u001b[38;5;241m=\u001b[39m \u001b[43mDiscriminator\u001b[49m\u001b[43m(\u001b[49m\u001b[43moutput_dim\u001b[49m\u001b[43m,\u001b[49m\u001b[43m \u001b[49m\u001b[43mcond_dim\u001b[49m\u001b[43m,\u001b[49m\u001b[43m \u001b[49m\u001b[43mnum_layers\u001b[49m\u001b[43m,\u001b[49m\u001b[43m \u001b[49m\u001b[43mhidden_dim\u001b[49m\u001b[43m)\u001b[49m\n",
      "File \u001b[0;32m~/code/gan4herwig/cgan.py:38\u001b[0m, in \u001b[0;36m__init__\u001b[0;34m(self, input_dim, cond_dim, num_layers, hidden_dim)\u001b[0m\n\u001b[1;32m     35\u001b[0m     layer_list\u001b[38;5;241m.\u001b[39mappend(torch\u001b[38;5;241m.\u001b[39mnn\u001b[38;5;241m.\u001b[39mLeakyReLU(\u001b[38;5;241m0.2\u001b[39m))\n\u001b[1;32m     37\u001b[0m layer_list\u001b[38;5;241m.\u001b[39mappend(torch\u001b[38;5;241m.\u001b[39mnn\u001b[38;5;241m.\u001b[39mLinear(hidden_dim, \u001b[38;5;241m1\u001b[39m, activation\u001b[38;5;241m=\u001b[39m\u001b[38;5;124m'\u001b[39m\u001b[38;5;124msigmoid\u001b[39m\u001b[38;5;124m'\u001b[39m))\n\u001b[0;32m---> 38\u001b[0m \u001b[38;5;28mself\u001b[39m\u001b[38;5;241m.\u001b[39mmodel \u001b[38;5;241m=\u001b[39m torch\u001b[38;5;241m.\u001b[39mnn\u001b[38;5;241m.\u001b[39mSequential(\u001b[38;5;241m*\u001b[39mlayer_list)\n",
      "\u001b[0;31mTypeError\u001b[0m: __init__() got an unexpected keyword argument 'activation'"
     ]
    }
   ],
   "source": [
    "gene = Generator(noise_dim, cond_dim, output_dim, num_layers, hidden_dim)\n",
    "disc = Discriminator(output_dim, cond_dim, num_layers, hidden_dim)"
   ]
  },
  {
   "cell_type": "code",
   "execution_count": null,
   "id": "6bc70a0a-3953-42c8-b521-8cd41a6491a6",
   "metadata": {},
   "outputs": [],
   "source": []
  }
 ],
 "metadata": {
  "kernelspec": {
   "display_name": "Python 3",
   "language": "python",
   "name": "python3"
  },
  "language_info": {
   "codemirror_mode": {
    "name": "ipython",
    "version": 3
   },
   "file_extension": ".py",
   "mimetype": "text/x-python",
   "name": "python",
   "nbconvert_exporter": "python",
   "pygments_lexer": "ipython3",
   "version": "3.9.13"
  }
 },
 "nbformat": 4,
 "nbformat_minor": 5
}
