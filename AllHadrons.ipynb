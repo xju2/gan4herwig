{
 "cells": [
  {
   "cell_type": "code",
   "execution_count": 18,
   "id": "cc2c6413-93d1-4902-82af-2c9babb8c5ce",
   "metadata": {},
   "outputs": [],
   "source": [
    "import os\n",
    "import pickle\n",
    "import tqdm\n",
    "\n",
    "import numpy as np\n",
    "import matplotlib.pyplot as plt\n",
    "%matplotlib inline\n",
    "\n",
    "from torch.utils.tensorboard import SummaryWriter\n",
    "# %load_ext tensorboard\n",
    "\n",
    "import torch\n",
    "import torch.nn as nn\n",
    "import torch.nn.functional as F\n",
    "import torch.optim as optim\n",
    "torch.manual_seed(1);\n",
    "\n",
    "device = torch.device(\"cuda:0\" if torch.cuda.is_available() else \"cpu\")\n",
    "\n",
    "\n",
    "from utils import create_dataloader"
   ]
  },
  {
   "cell_type": "code",
   "execution_count": 2,
   "id": "4d7e7cbd-ee30-4a97-b4da-eeeadcbebc10",
   "metadata": {},
   "outputs": [],
   "source": [
    "data_path = \"/global/home/users/xju/projects/herwig/data\"\n",
    "filename = os.path.join(data_path, \"allHadrons_10M_mode4_with_quark_with_pert.npz\")\n",
    "org_filename = os.path.join(data_path, \"cluster_ML_allHadrons_10M.txt\")"
   ]
  },
  {
   "cell_type": "markdown",
   "id": "f1f484ca-23d6-4791-95fa-df101a707209",
   "metadata": {
    "jp-MarkdownHeadingCollapsed": true,
    "tags": []
   },
   "source": [
    "# Hadron types"
   ]
  },
  {
   "cell_type": "code",
   "execution_count": 25,
   "id": "a7cad65f-aa9b-4936-ab9c-098edefec2ae",
   "metadata": {},
   "outputs": [],
   "source": [
    "from utils import read_dataframe, split_to_float"
   ]
  },
  {
   "cell_type": "code",
   "execution_count": 26,
   "id": "836be6e8-18fc-49a8-9338-dd7656a0529d",
   "metadata": {},
   "outputs": [],
   "source": [
    "df = read_dataframe(org_filename, \";\", 'python')\n",
    "q1,q2,c,h1,h2 = [split_to_float(df[idx]) for idx in range(5)]"
   ]
  },
  {
   "cell_type": "code",
   "execution_count": 27,
   "id": "f5b269dd-04b5-45dd-b879-efba46c0d96b",
   "metadata": {},
   "outputs": [],
   "source": [
    "h1_type, h2_type = h1[[0]], h2[[0]]"
   ]
  },
  {
   "cell_type": "code",
   "execution_count": 28,
   "id": "2f5f51af-191e-4a5b-b899-de7119b44b24",
   "metadata": {},
   "outputs": [],
   "source": [
    "fontsize = 16\n",
    "def plot_counts(array: np.ndarray):\n",
    "    types, counts = np.unique(array, return_counts=True)\n",
    "    num_types = len(types)\n",
    "    tot_cnts = np.sum(counts)\n",
    "    xvals = np.arange(num_types)\n",
    "    \n",
    "    fig, ax = plt.subplots(figsize=(6,6))\n",
    "    ax.scatter(xvals, counts/tot_cnts, s=2.)\n",
    "\n",
    "    ax.set_xticklabels([])\n",
    "    ax.set_xlabel(\"hadron type\", fontsize=fontsize)\n",
    "    print(f\"total {num_types} hadrons in the final state\")\n",
    "    return types.astype(np.int64), num_types"
   ]
  },
  {
   "cell_type": "code",
   "execution_count": 29,
   "id": "ee027507-0357-417b-b076-078cddd7cccf",
   "metadata": {},
   "outputs": [
    {
     "name": "stdout",
     "output_type": "stream",
     "text": [
      "total 322 hadrons in the final state\n"
     ]
    },
    {
     "data": {
      "image/png": "[encoded data removed]",
      "text/plain": [
       "<Figure size 600x600 with 1 Axes>"
      ]
     },
     "metadata": {},
     "output_type": "display_data"
    }
   ],
   "source": [
    "hadron_types = plot_counts(np.concatenate([h1_type, h2_type], axis=0))"
   ]
  },
  {
   "cell_type": "markdown",
   "id": "e0d7e448-c124-4052-a55c-98865e8b8589",
   "metadata": {},
   "source": [
    "## Hadron type embedding"
   ]
  },
  {
   "cell_type": "code",
   "execution_count": 30,
   "id": "d1011109-8705-4ad4-bdb1-4d336ed37abf",
   "metadata": {},
   "outputs": [],
   "source": [
    "embed_dim = 10\n",
    "hadron_pids, num_hadron_types = hadron_types\n",
    "pids_to_ix = {pids: i for i, pids in enumerate(hadron_pids)}\n",
    "\n",
    "pickle.dump(pids_to_ix, open(\"pids_to_ix.pkl\", \"wb\"))"
   ]
  },
  {
   "cell_type": "code",
   "execution_count": 31,
   "id": "bbbe0303-376b-4c24-aff4-93511b6ebc7f",
   "metadata": {},
   "outputs": [],
   "source": [
    "type_embedding = nn.Embedding(num_hadron_types, embed_dim)"
   ]
  },
  {
   "cell_type": "code",
   "execution_count": 32,
   "id": "42f9a87c-c24f-4ac5-9b39-ca201d441171",
   "metadata": {},
   "outputs": [
    {
     "name": "stdout",
     "output_type": "stream",
     "text": [
      "tensor([[ 0.4865, -0.2672, -0.9057,  1.1978, -1.4437,  0.1671, -0.9476,  0.2961,\n",
      "         -0.0076, -2.0869]], grad_fn=<EmbeddingBackward0>)\n"
     ]
    }
   ],
   "source": [
    "lookup_tensor = torch.tensor([pids_to_ix[111]], dtype=torch.long)\n",
    "pion_embed = type_embedding(lookup_tensor)\n",
    "print(pion_embed)"
   ]
  },
  {
   "cell_type": "markdown",
   "id": "313e8a63",
   "metadata": {},
   "source": [
    "# GAN with hadron type embedding"
   ]
  },
  {
   "cell_type": "markdown",
   "id": "40ab1b3d",
   "metadata": {},
   "source": [
    "Read the input data"
   ]
  },
  {
   "cell_type": "code",
   "execution_count": 3,
   "id": "3936ef78-3d0a-44d8-b1b4-d09a0084ce39",
   "metadata": {},
   "outputs": [
    {
     "name": "stdout",
     "output_type": "stream",
     "text": [
      "(78984075, 4) (78984075, 8)\n",
      "CPU times: user 2min 46s, sys: 1.79 s, total: 2min 47s\n",
      "Wall time: 2min 48s\n"
     ]
    }
   ],
   "source": [
    "%%time\n",
    "\n",
    "batch_size = 10000\n",
    "num_workers = 6\n",
    "\n",
    "train_loader, test_loader, xlabels = create_dataloader(filename, batch_size, num_workers)"
   ]
  },
  {
   "cell_type": "markdown",
   "id": "dec0a932-b1ea-4277-92ba-09f18ee8b92d",
   "metadata": {},
   "source": [
    "Read in the particle index map."
   ]
  },
  {
   "cell_type": "code",
   "execution_count": 4,
   "id": "d322931b-2a0d-4d20-bf05-433ae2615436",
   "metadata": {},
   "outputs": [],
   "source": [
    "pids_to_ix = pickle.load(open(\"pids_to_ix.pkl\", \"rb\"))\n",
    "num_hadron_types = len(list(pids_to_ix.keys()))"
   ]
  },
  {
   "cell_type": "code",
   "execution_count": 5,
   "id": "c4970915-bfc7-4af9-8745-ebb05249bd78",
   "metadata": {},
   "outputs": [
    {
     "name": "stdout",
     "output_type": "stream",
     "text": [
      "conditional dimension:  8\n",
      "output dimension:  2\n"
     ]
    }
   ],
   "source": [
    "batch = next(iter(train_loader))\n",
    "cond_dim = batch[0].shape[1]\n",
    "output_dim = batch[1].shape[1] - 2\n",
    "print(\"conditional dimension: \", cond_dim)\n",
    "print(\"output dimension: \", output_dim)\n",
    "\n",
    "trained_models = \"all_hadron_v1\""
   ]
  },
  {
   "cell_type": "code",
   "execution_count": 41,
   "id": "50214b10-3b8e-4195-a53c-088946809bbe",
   "metadata": {
    "tags": []
   },
   "outputs": [],
   "source": [
    "def create_MLP_layers(input_dim: int, output_dim: int,\n",
    "               num_layers: int, hidden_dim: int,\n",
    "               dropout: float = 0.2,\n",
    "               layer_norm: bool = True):\n",
    "    layer_list = []\n",
    "    for i in range(num_layers):\n",
    "        if i == 0:\n",
    "            layer_list.append(torch.nn.Linear(input_dim, hidden_dim))\n",
    "        else:\n",
    "            layer_list.append(torch.nn.Linear(hidden_dim, hidden_dim))\n",
    "\n",
    "        if layer_norm:\n",
    "            layer_list.append(torch.nn.LayerNorm(hidden_dim))\n",
    "\n",
    "        layer_list.append(torch.nn.LeakyReLU(0.2))\n",
    "        if dropout > 0:\n",
    "            layer_list.append(torch.nn.Dropout(dropout))\n",
    "\n",
    "    layer_list.append(torch.nn.Linear(hidden_dim, output_dim))\n",
    "    return layer_list\n",
    "\n",
    "\n",
    "class Generator(nn.Module):\n",
    "    \"\"\"Generator for the GAN\"\"\"\n",
    "    def __init__(self, noise_dim: int, cond_dim: int, output_dim: int,\n",
    "                 num_hadron_types: int, num_layers: int, hidden_dim: int,\n",
    "                 num_max_hadrons: int = 2,\n",
    "                 dropout: float = 0,\n",
    "                 layer_norm: bool = True,\n",
    "                ):       \n",
    "        super(Generator, self).__init__()\n",
    "        \n",
    "        layer_list = create_MLP_layers(\n",
    "            noise_dim + cond_dim,\n",
    "            output_dim+num_hadron_types*num_max_hadrons,\n",
    "            num_layers, hidden_dim, dropout)\n",
    "\n",
    "        self.model = nn.Sequential(*layer_list)\n",
    "        \n",
    "\n",
    "    def forward(self, x):\n",
    "        return self.model(x)\n",
    "    \n",
    "    \n",
    "class Discriminator(torch.nn.Module):\n",
    "    \"\"\"Discriminator for the GAN\"\"\"\n",
    "    def __init__(self, input_dim: int, cond_dim: int,\n",
    "                 num_hadron_types: int, \n",
    "                 num_layers: int, hidden_dim: int,\n",
    "                 num_max_hadrons: int = 2,\n",
    "                 dropout: float = 0.2,\n",
    "                 layer_norm: bool = True,\n",
    "                ):\n",
    "        super(Discriminator, self).__init__()        \n",
    "        \n",
    "        layer_list = create_MLP_layers(\n",
    "            cond_dim + input_dim +  num_hadron_types * num_max_hadrons,\n",
    "            1,\n",
    "            num_layers, hidden_dim, dropout, layer_norm)\n",
    "\n",
    "        layer_list.append(nn.Sigmoid())\n",
    "        self.model = torch.nn.Sequential(*layer_list)\n",
    "        \n",
    "    \n",
    "    def forward(self, x):\n",
    "        return self.model(x)"
   ]
  },
  {
   "cell_type": "code",
   "execution_count": 6,
   "id": "3ae68414-72b3-4364-ab86-9b0ac50eea58",
   "metadata": {},
   "outputs": [],
   "source": [
    "## HPs for the GAN\n",
    "noise_dim = 16\n",
    "num_max_hadrons = 2"
   ]
  },
  {
   "cell_type": "code",
   "execution_count": 49,
   "id": "52bb776c-37a4-465b-a6f6-fccc8b8d5b78",
   "metadata": {},
   "outputs": [
    {
     "name": "stdout",
     "output_type": "stream",
     "text": [
      "Generator(\n",
      "  (model): Sequential(\n",
      "    (0): Linear(in_features=24, out_features=1024, bias=True)\n",
      "    (1): LayerNorm((1024,), eps=1e-05, elementwise_affine=True)\n",
      "    (2): LeakyReLU(negative_slope=0.2)\n",
      "    (3): Linear(in_features=1024, out_features=1024, bias=True)\n",
      "    (4): LayerNorm((1024,), eps=1e-05, elementwise_affine=True)\n",
      "    (5): LeakyReLU(negative_slope=0.2)\n",
      "    (6): Linear(in_features=1024, out_features=1024, bias=True)\n",
      "    (7): LayerNorm((1024,), eps=1e-05, elementwise_affine=True)\n",
      "    (8): LeakyReLU(negative_slope=0.2)\n",
      "    (9): Linear(in_features=1024, out_features=1024, bias=True)\n",
      "    (10): LayerNorm((1024,), eps=1e-05, elementwise_affine=True)\n",
      "    (11): LeakyReLU(negative_slope=0.2)\n",
      "    (12): Linear(in_features=1024, out_features=1024, bias=True)\n",
      "    (13): LayerNorm((1024,), eps=1e-05, elementwise_affine=True)\n",
      "    (14): LeakyReLU(negative_slope=0.2)\n",
      "    (15): Linear(in_features=1024, out_features=1024, bias=True)\n",
      "    (16): LayerNorm((1024,), eps=1e-05, elementwise_affine=True)\n",
      "    (17): LeakyReLU(negative_slope=0.2)\n",
      "    (18): Linear(in_features=1024, out_features=1024, bias=True)\n",
      "    (19): LayerNorm((1024,), eps=1e-05, elementwise_affine=True)\n",
      "    (20): LeakyReLU(negative_slope=0.2)\n",
      "    (21): Linear(in_features=1024, out_features=1024, bias=True)\n",
      "    (22): LayerNorm((1024,), eps=1e-05, elementwise_affine=True)\n",
      "    (23): LeakyReLU(negative_slope=0.2)\n",
      "    (24): Linear(in_features=1024, out_features=1024, bias=True)\n",
      "    (25): LayerNorm((1024,), eps=1e-05, elementwise_affine=True)\n",
      "    (26): LeakyReLU(negative_slope=0.2)\n",
      "    (27): Linear(in_features=1024, out_features=1024, bias=True)\n",
      "    (28): LayerNorm((1024,), eps=1e-05, elementwise_affine=True)\n",
      "    (29): LeakyReLU(negative_slope=0.2)\n",
      "    (30): Linear(in_features=1024, out_features=646, bias=True)\n",
      "  )\n",
      ")\n",
      "Discriminator(\n",
      "  (model): Sequential(\n",
      "    (0): Linear(in_features=654, out_features=64, bias=True)\n",
      "    (1): LeakyReLU(negative_slope=0.2)\n",
      "    (2): Dropout(p=0.2, inplace=False)\n",
      "    (3): Linear(in_features=64, out_features=64, bias=True)\n",
      "    (4): LeakyReLU(negative_slope=0.2)\n",
      "    (5): Dropout(p=0.2, inplace=False)\n",
      "    (6): Linear(in_features=64, out_features=64, bias=True)\n",
      "    (7): LeakyReLU(negative_slope=0.2)\n",
      "    (8): Dropout(p=0.2, inplace=False)\n",
      "    (9): Linear(in_features=64, out_features=64, bias=True)\n",
      "    (10): LeakyReLU(negative_slope=0.2)\n",
      "    (11): Dropout(p=0.2, inplace=False)\n",
      "    (12): Linear(in_features=64, out_features=64, bias=True)\n",
      "    (13): LeakyReLU(negative_slope=0.2)\n",
      "    (14): Dropout(p=0.2, inplace=False)\n",
      "    (15): Linear(in_features=64, out_features=1, bias=True)\n",
      "    (16): Sigmoid()\n",
      "  )\n",
      ")\n"
     ]
    }
   ],
   "source": [
    "generator = Generator(noise_dim, cond_dim, output_dim, num_hadron_types,\n",
    "                      num_layers=10, hidden_dim=1024,\n",
    "                      num_max_hadrons=num_max_hadrons).to(device)\n",
    "\n",
    "discriminator = Discriminator(output_dim, cond_dim, num_hadron_types,\n",
    "                              num_layers=5, hidden_dim=64,\n",
    "                              num_max_hadrons=num_max_hadrons, layer_norm=False).to(device)\n",
    "\n",
    "print(generator)\n",
    "print(discriminator)"
   ]
  },
  {
   "cell_type": "code",
   "execution_count": null,
   "id": "d0333b70-60e9-4a9a-a54d-4a8d11a4cfbb",
   "metadata": {},
   "outputs": [],
   "source": []
  },
  {
   "cell_type": "code",
   "execution_count": 36,
   "id": "e037e5c6-01cb-404b-bac6-8d338c619407",
   "metadata": {
    "jupyter": {
     "source_hidden": true
    },
    "tags": []
   },
   "outputs": [],
   "source": [
    "noise = torch.randn(batch_size, noise_dim).to(device)\n",
    "x, y = batch\n",
    "x, y = x.to(device), y.to(device)\n",
    "x_gen = torch.concat([x, noise], dim=1).to(device)\n",
    "\n",
    "fake = generator(x_gen)\n",
    "\n",
    "x_disc = torch.cat([x, fake], dim=1).to(device)\n",
    "score = discriminator(x_disc)"
   ]
  },
  {
   "cell_type": "code",
   "execution_count": 9,
   "id": "e783f330-55f8-4ec7-9019-3f590d399965",
   "metadata": {},
   "outputs": [],
   "source": [
    "## Loss functions\n",
    "\n",
    "criterion = nn.BCELoss()\n"
   ]
  },
  {
   "cell_type": "code",
   "execution_count": 50,
   "id": "f70538d9-7362-4286-a64b-e900a1c348d2",
   "metadata": {},
   "outputs": [],
   "source": [
    "## HPs for training\n",
    "gen_lr  = 0.00001\n",
    "disc_lr = 0.00005\n",
    "beta1 = 0.5   # default value: 0.9\n",
    "\n",
    "opt_gen = optim.Adam(generator.parameters(), lr=gen_lr, betas=(beta1, 0.999))\n",
    "opt_disc = optim.Adam(discriminator.parameters(), lr=disc_lr, betas=(beta1, 0.999))\n"
   ]
  },
  {
   "cell_type": "code",
   "execution_count": 54,
   "id": "ec66a768-3c67-4960-9467-7fd002eb8846",
   "metadata": {
    "jupyter": {
     "source_hidden": true
    },
    "tags": []
   },
   "outputs": [],
   "source": [
    "def train():\n",
    "    real_label = 1\n",
    "    fake_label = 0\n",
    "    \n",
    "    tot_loss_gen = 0\n",
    "    tot_loss_disc = 0\n",
    "    num_batches = 0\n",
    "    for batch in train_loader:\n",
    "        num_batches += 1\n",
    "        x, y = batch\n",
    "        x, y = x.to(device), y.to(device)\n",
    "        \n",
    "        ##  Train discriminator with all-real batch\n",
    "        discriminator.zero_grad()\n",
    "\n",
    "        target_hadron_types = y[:, 2:].reshape(-1).long()\n",
    "        target_hadron_types_idx = torch.from_numpy(np.array(\n",
    "            [pids_to_ix[int(pid)] for pid in target_hadron_types]))\n",
    "        \n",
    "        num_evts = y.shape[0]\n",
    "\n",
    "        true_hadron_types = torch.abs(F.one_hot(target_hadron_types_idx, num_classes=num_hadron_types) \\\n",
    "            - torch.rand(num_evts*num_max_hadrons, num_hadron_types)*0.001).reshape(num_evts, -1).to(device)\n",
    "        x_truth = torch.cat([x, y[:, :2], true_hadron_types], dim=1)\n",
    "        score_truth = discriminator(x_truth).squeeze()\n",
    "        label = torch.full((num_evts,), real_label, dtype=torch.float, device=device)\n",
    "        loss_real = criterion(score_truth, label)\n",
    "\n",
    "        loss_real.backward()\n",
    "\n",
    "        ## Train discriminator with all-fake batch\n",
    "        noise = torch.randn(num_evts, noise_dim).to(device)\n",
    "        x_fake = torch.concat([x, noise], dim=1)\n",
    "        fake = generator(x_fake)\n",
    "\n",
    "        x_generated = torch.cat([x, fake], dim=1)\n",
    "        score_fakes = discriminator(x_generated.detach()).squeeze()\n",
    "        label.fill_(fake_label)\n",
    "        loss_fake = criterion(score_fakes, label)\n",
    "        loss_fake.backward()\n",
    "        loss_disc = loss_real + loss_fake\n",
    "        ## Update discriminator\n",
    "        opt_disc.step()\n",
    "\n",
    "\n",
    "        ## Train generator\n",
    "        generator.zero_grad()\n",
    "        label.fill_(real_label)\n",
    "        score_fakes = discriminator(x_generated).squeeze()\n",
    "        loss_generator = criterion(score_fakes, label)\n",
    "        loss_generator.backward()\n",
    "        opt_gen.step()\n",
    "        \n",
    "        tot_loss_gen += loss_generator.item()\n",
    "        tot_loss_disc += loss_disc.item()\n",
    "        \n",
    "        if num_batches > 10000:\n",
    "            break\n",
    "        \n",
    "    return tot_loss_gen/num_batches, tot_loss_disc/num_batches"
   ]
  },
  {
   "cell_type": "code",
   "execution_count": 45,
   "id": "f8027893-9194-4aca-9c9c-6c4a08d1ca85",
   "metadata": {
    "tags": []
   },
   "outputs": [],
   "source": [
    "def train_one_batch(batch):\n",
    "    real_label = 1\n",
    "    fake_label = 0\n",
    "    \n",
    "    x, y = batch\n",
    "    x, y = x.to(device), y.to(device)\n",
    "\n",
    "    ##  Train discriminator with all-real batch\n",
    "    discriminator.zero_grad()\n",
    "\n",
    "    target_hadron_types = y[:, 2:].reshape(-1).long()\n",
    "    target_hadron_types_idx = torch.from_numpy(np.array(\n",
    "        [pids_to_ix[int(pid)] for pid in target_hadron_types]))\n",
    "\n",
    "    num_evts = y.shape[0]\n",
    "\n",
    "    true_hadron_types = torch.abs(F.one_hot(target_hadron_types_idx, num_classes=num_hadron_types) \\\n",
    "        - torch.rand(num_evts*num_max_hadrons, num_hadron_types)*0.001).reshape(num_evts, -1).to(device)\n",
    "    x_truth = torch.cat([x, y[:, :2], true_hadron_types], dim=1)\n",
    "    score_truth = discriminator(x_truth).squeeze()\n",
    "    label = torch.full((num_evts,), real_label, dtype=torch.float, device=device)\n",
    "    loss_real = criterion(score_truth, label)\n",
    "\n",
    "    loss_real.backward()\n",
    "\n",
    "    ## Train discriminator with all-fake batch\n",
    "    noise = torch.randn(num_evts, noise_dim).to(device)\n",
    "    x_fake = torch.concat([x, noise], dim=1)\n",
    "    fake = generator(x_fake)\n",
    "\n",
    "    x_generated = torch.cat([x, fake], dim=1)\n",
    "    score_fakes = discriminator(x_generated.detach()).squeeze()\n",
    "    label.fill_(fake_label)\n",
    "    loss_fake = criterion(score_fakes, label)\n",
    "    loss_fake.backward()\n",
    "    loss_disc = loss_real + loss_fake\n",
    "    ## Update discriminator\n",
    "    opt_disc.step()\n",
    "\n",
    "\n",
    "    ## Train generator\n",
    "    generator.zero_grad()\n",
    "    label.fill_(real_label)\n",
    "    score_fakes = discriminator(x_generated).squeeze()\n",
    "    loss_generator = criterion(score_fakes, label)\n",
    "    loss_generator.backward()\n",
    "    opt_gen.step()\n",
    "        \n",
    "    return loss_generator.item(), loss_disc.item()"
   ]
  },
  {
   "cell_type": "code",
   "execution_count": 39,
   "id": "8030b631-bafd-4a20-8a10-38001895afe1",
   "metadata": {
    "collapsed": true,
    "jupyter": {
     "outputs_hidden": true,
     "source_hidden": true
    },
    "tags": []
   },
   "outputs": [
    {
     "name": "stderr",
     "output_type": "stream",
     "text": [
      "/global/home/users/xju/miniconda3/envs/pyG-1.12.1/lib/python3.9/site-packages/torch/_tensor.py:1083: UserWarning: The .grad attribute of a Tensor that is not a leaf Tensor is being accessed. Its .grad attribute won't be populated during autograd.backward(). If you indeed want the .grad field to be populated for a non-leaf Tensor, use .retain_grad() on the non-leaf Tensor. If you access the non-leaf Tensor by mistake, make sure you access the leaf Tensor instead. See github.com/pytorch/pytorch/pull/30531 for more informations. (Triggered internally at  /opt/conda/conda-bld/pytorch_1659484806139/work/build/aten/src/ATen/core/TensorBody.h:477.)\n",
      "  return self._grad\n"
     ]
    }
   ],
   "source": [
    "writer = SummaryWriter()\n",
    "writer.add_graph(generator, x_gen)\n",
    "writer.add_graph(discriminator, x_disc)"
   ]
  },
  {
   "cell_type": "code",
   "execution_count": 51,
   "id": "3e60a286-e178-4196-9ac4-5c48937e0c5f",
   "metadata": {
    "tags": []
   },
   "outputs": [
    {
     "name": "stderr",
     "output_type": "stream",
     "text": [
      "\n",
      "Epoch 0:  29%|██▉       | 2070/7109 [14:41<35:45,  2.35it/s, lossG=0.693, lossD=0.693] \n",
      "  0%|          | 0/200 [14:46<?, ?it/s]\n"
     ]
    },
    {
     "ename": "KeyboardInterrupt",
     "evalue": "",
     "output_type": "error",
     "traceback": [
      "\u001b[0;31m---------------------------------------------------------------------------\u001b[0m",
      "\u001b[0;31mKeyboardInterrupt\u001b[0m                         Traceback (most recent call last)",
      "Cell \u001b[0;32mIn [51], line 8\u001b[0m\n\u001b[1;32m      6\u001b[0m \u001b[38;5;28;01mwith\u001b[39;00m tqdm\u001b[38;5;241m.\u001b[39mtqdm(\u001b[38;5;28menumerate\u001b[39m(train_loader), desc\u001b[38;5;241m=\u001b[39m\u001b[38;5;124mf\u001b[39m\u001b[38;5;124m\"\u001b[39m\u001b[38;5;124mEpoch \u001b[39m\u001b[38;5;132;01m{\u001b[39;00m_\u001b[38;5;132;01m}\u001b[39;00m\u001b[38;5;124m\"\u001b[39m, position\u001b[38;5;241m=\u001b[39m\u001b[38;5;241m0\u001b[39m, leave\u001b[38;5;241m=\u001b[39m\u001b[38;5;28;01mTrue\u001b[39;00m, total\u001b[38;5;241m=\u001b[39mnum_batches) \u001b[38;5;28;01mas\u001b[39;00m t1:\n\u001b[1;32m      7\u001b[0m     \u001b[38;5;28;01mfor\u001b[39;00m bidx,batch \u001b[38;5;129;01min\u001b[39;00m t1:\n\u001b[0;32m----> 8\u001b[0m         loss_gen, loss_disc \u001b[38;5;241m=\u001b[39m \u001b[43mtrain_one_batch\u001b[49m\u001b[43m(\u001b[49m\u001b[43mbatch\u001b[49m\u001b[43m)\u001b[49m\n\u001b[1;32m     10\u001b[0m         metric \u001b[38;5;241m=\u001b[39m \u001b[38;5;28mdict\u001b[39m(lossG\u001b[38;5;241m=\u001b[39mloss_gen, lossD\u001b[38;5;241m=\u001b[39mloss_disc\u001b[38;5;241m/\u001b[39m\u001b[38;5;241m2\u001b[39m)\n\u001b[1;32m     11\u001b[0m         t1\u001b[38;5;241m.\u001b[39mset_postfix(metric)\n",
      "Cell \u001b[0;32mIn [45], line 13\u001b[0m, in \u001b[0;36mtrain_one_batch\u001b[0;34m(batch)\u001b[0m\n\u001b[1;32m      9\u001b[0m discriminator\u001b[38;5;241m.\u001b[39mzero_grad()\n\u001b[1;32m     11\u001b[0m target_hadron_types \u001b[38;5;241m=\u001b[39m y[:, \u001b[38;5;241m2\u001b[39m:]\u001b[38;5;241m.\u001b[39mreshape(\u001b[38;5;241m-\u001b[39m\u001b[38;5;241m1\u001b[39m)\u001b[38;5;241m.\u001b[39mlong()\n\u001b[1;32m     12\u001b[0m target_hadron_types_idx \u001b[38;5;241m=\u001b[39m torch\u001b[38;5;241m.\u001b[39mfrom_numpy(np\u001b[38;5;241m.\u001b[39marray(\n\u001b[0;32m---> 13\u001b[0m     [pids_to_ix[\u001b[38;5;28mint\u001b[39m(pid)] \u001b[38;5;28;01mfor\u001b[39;00m pid \u001b[38;5;129;01min\u001b[39;00m target_hadron_types]))\n\u001b[1;32m     15\u001b[0m num_evts \u001b[38;5;241m=\u001b[39m y\u001b[38;5;241m.\u001b[39mshape[\u001b[38;5;241m0\u001b[39m]\n\u001b[1;32m     17\u001b[0m true_hadron_types \u001b[38;5;241m=\u001b[39m torch\u001b[38;5;241m.\u001b[39mabs(F\u001b[38;5;241m.\u001b[39mone_hot(target_hadron_types_idx, num_classes\u001b[38;5;241m=\u001b[39mnum_hadron_types) \\\n\u001b[1;32m     18\u001b[0m     \u001b[38;5;241m-\u001b[39m torch\u001b[38;5;241m.\u001b[39mrand(num_evts\u001b[38;5;241m*\u001b[39mnum_max_hadrons, num_hadron_types)\u001b[38;5;241m*\u001b[39m\u001b[38;5;241m0.001\u001b[39m)\u001b[38;5;241m.\u001b[39mreshape(num_evts, \u001b[38;5;241m-\u001b[39m\u001b[38;5;241m1\u001b[39m)\u001b[38;5;241m.\u001b[39mto(device)\n",
      "Cell \u001b[0;32mIn [45], line 13\u001b[0m, in \u001b[0;36m<listcomp>\u001b[0;34m(.0)\u001b[0m\n\u001b[1;32m      9\u001b[0m discriminator\u001b[38;5;241m.\u001b[39mzero_grad()\n\u001b[1;32m     11\u001b[0m target_hadron_types \u001b[38;5;241m=\u001b[39m y[:, \u001b[38;5;241m2\u001b[39m:]\u001b[38;5;241m.\u001b[39mreshape(\u001b[38;5;241m-\u001b[39m\u001b[38;5;241m1\u001b[39m)\u001b[38;5;241m.\u001b[39mlong()\n\u001b[1;32m     12\u001b[0m target_hadron_types_idx \u001b[38;5;241m=\u001b[39m torch\u001b[38;5;241m.\u001b[39mfrom_numpy(np\u001b[38;5;241m.\u001b[39marray(\n\u001b[0;32m---> 13\u001b[0m     [pids_to_ix[\u001b[38;5;28;43mint\u001b[39;49m\u001b[43m(\u001b[49m\u001b[43mpid\u001b[49m\u001b[43m)\u001b[49m] \u001b[38;5;28;01mfor\u001b[39;00m pid \u001b[38;5;129;01min\u001b[39;00m target_hadron_types]))\n\u001b[1;32m     15\u001b[0m num_evts \u001b[38;5;241m=\u001b[39m y\u001b[38;5;241m.\u001b[39mshape[\u001b[38;5;241m0\u001b[39m]\n\u001b[1;32m     17\u001b[0m true_hadron_types \u001b[38;5;241m=\u001b[39m torch\u001b[38;5;241m.\u001b[39mabs(F\u001b[38;5;241m.\u001b[39mone_hot(target_hadron_types_idx, num_classes\u001b[38;5;241m=\u001b[39mnum_hadron_types) \\\n\u001b[1;32m     18\u001b[0m     \u001b[38;5;241m-\u001b[39m torch\u001b[38;5;241m.\u001b[39mrand(num_evts\u001b[38;5;241m*\u001b[39mnum_max_hadrons, num_hadron_types)\u001b[38;5;241m*\u001b[39m\u001b[38;5;241m0.001\u001b[39m)\u001b[38;5;241m.\u001b[39mreshape(num_evts, \u001b[38;5;241m-\u001b[39m\u001b[38;5;241m1\u001b[39m)\u001b[38;5;241m.\u001b[39mto(device)\n",
      "\u001b[0;31mKeyboardInterrupt\u001b[0m: "
     ]
    }
   ],
   "source": [
    "num_epochs = 200\n",
    "num_batches = len(train_loader)\n",
    "\n",
    "for _ in tqdm.trange(num_epochs, position=1):\n",
    "    # training\n",
    "    with tqdm.tqdm(enumerate(train_loader), desc=f\"Epoch {_}\", position=0, leave=True, total=num_batches) as t1:\n",
    "        for bidx,batch in t1:\n",
    "            loss_gen, loss_disc = train_one_batch(batch)\n",
    "\n",
    "            metric = dict(lossG=loss_gen, lossD=loss_disc/2)\n",
    "            t1.set_postfix(metric)"
   ]
  },
  {
   "cell_type": "code",
   "execution_count": 25,
   "id": "a5fb57d5",
   "metadata": {},
   "outputs": [],
   "source": [
    "torch.save({'generator': generator.state_dict(),\n",
    "            'discriminator': discriminator.state_dict(),\n",
    "            'generator_opt': opt_gen.state_dict(),\n",
    "            'discriminator_opt': opt_disc.state_dict()\n",
    "           }, f'{trained_models}.ckpt')"
   ]
  },
  {
   "cell_type": "code",
   "execution_count": null,
   "id": "e87a6c86-8d15-48e5-9f30-13866efc6ec9",
   "metadata": {},
   "outputs": [],
   "source": []
  },
  {
   "cell_type": "code",
   "execution_count": null,
   "id": "a517b4ca-f476-452d-b7f1-18483745ea4f",
   "metadata": {},
   "outputs": [],
   "source": []
  },
  {
   "cell_type": "code",
   "execution_count": null,
   "id": "ddfe18a8-babf-4b52-b360-ff4bfbd75a99",
   "metadata": {},
   "outputs": [],
   "source": [
    "        # writer.add_scalar(\"Generator Loss\", loss_gen, _)\n",
    "        # writer.add_scalar(\"Discriminator Loss\", loss_disc, _)\n",
    "        \n",
    "            \n",
    "        \n",
    "            # validation <TODO>\n",
    "            # t0.set_postfix(**metric)"
   ]
  }
 ],
 "metadata": {
  "kernelspec": {
   "display_name": "Python 3",
   "language": "python",
   "name": "python3"
  },
  "language_info": {
   "codemirror_mode": {
    "name": "ipython",
    "version": 3
   },
   "file_extension": ".py",
   "mimetype": "text/x-python",
   "name": "python",
   "nbconvert_exporter": "python",
   "pygments_lexer": "ipython3",
   "version": "3.9.13"
  },
  "vscode": {
   "interpreter": {
    "hash": "22bc0038c9d8ff767a88afaae49674e591625273f43cd41c2a84bf36af7b0d28"
   }
  }
 },
 "nbformat": 4,
 "nbformat_minor": 5
}
